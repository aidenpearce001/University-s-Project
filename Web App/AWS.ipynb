{
 "cells": [
  {
   "cell_type": "code",
   "execution_count": 5,
   "id": "d6e375cc",
   "metadata": {},
   "outputs": [],
   "source": [
    "from dotenv import load_dotenv\n",
    "import os\n",
    "\n",
    "import boto\n",
    "import boto.s3\n",
    "import sys\n",
    "from boto.s3.key import Key"
   ]
  },
  {
   "cell_type": "code",
   "execution_count": 6,
   "id": "d0753538",
   "metadata": {},
   "outputs": [
    {
     "data": {
      "text/plain": [
       "True"
      ]
     },
     "execution_count": 6,
     "metadata": {},
     "output_type": "execute_result"
    }
   ],
   "source": [
    "load_dotenv('.env')"
   ]
  },
  {
   "cell_type": "code",
   "execution_count": 7,
   "id": "ca64f8fd",
   "metadata": {},
   "outputs": [],
   "source": [
    "#AWS_ACCESS_KEY = os.getenv(\"ACCESS_KEY\")\n",
    "#AWS_SECRET_ACCESS_KEY = os.getenv(\"SECRET_KEY\")"
   ]
  },
  {
   "cell_type": "code",
   "execution_count": 33,
   "id": "4e743bd6",
   "metadata": {
    "scrolled": true
   },
   "outputs": [],
   "source": [
    "# s3 = boto3.client('s3')\n",
    "s3 = boto3.resource('s3')"
   ]
  },
  {
   "cell_type": "code",
   "execution_count": 30,
   "id": "2df7865f",
   "metadata": {},
   "outputs": [],
   "source": [
    "bucket = s3.Bucket('final-web-usth')"
   ]
  },
  {
   "cell_type": "code",
   "execution_count": 31,
   "id": "64899df1",
   "metadata": {},
   "outputs": [],
   "source": [
    "with open(\"cat.jpg\", \"rb\") as data:\n",
    "    bucket.upload_fileobj(data,\"cat.jpg\")"
   ]
  },
  {
   "cell_type": "code",
   "execution_count": 32,
   "id": "b0e222c5",
   "metadata": {},
   "outputs": [
    {
     "name": "stdout",
     "output_type": "stream",
     "text": [
      "cat.jpg\n"
     ]
    }
   ],
   "source": [
    "for obj in bucket.objects.all():\n",
    "    print(obj.key)"
   ]
  }
 ],
 "metadata": {
  "kernelspec": {
   "display_name": "aws",
   "language": "python",
   "name": "aws"
  },
  "language_info": {
   "codemirror_mode": {
    "name": "ipython",
    "version": 3
   },
   "file_extension": ".py",
   "mimetype": "text/x-python",
   "name": "python",
   "nbconvert_exporter": "python",
   "pygments_lexer": "ipython3",
   "version": "3.7.11"
  }
 },
 "nbformat": 4,
 "nbformat_minor": 5
}
