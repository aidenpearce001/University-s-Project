{
 "cells": [
  {
   "cell_type": "code",
   "execution_count": 1,
   "id": "d6e375cc",
   "metadata": {},
   "outputs": [],
   "source": [
    "from dotenv import load_dotenv\n",
    "import os\n",
    "import boto3"
   ]
  },
  {
   "cell_type": "code",
   "execution_count": 6,
   "id": "d0753538",
   "metadata": {},
   "outputs": [
    {
     "data": {
      "text/plain": [
       "True"
      ]
     },
     "execution_count": 6,
     "metadata": {},
     "output_type": "execute_result"
    }
   ],
   "source": [
    "load_dotenv('.env')"
   ]
  },
  {
   "cell_type": "code",
   "execution_count": 7,
   "id": "ca64f8fd",
   "metadata": {},
   "outputs": [],
   "source": [
    "#AWS_ACCESS_KEY = os.getenv(\"ACCESS_KEY\")\n",
    "#AWS_SECRET_ACCESS_KEY = os.getenv(\"SECRET_KEY\")"
   ]
  },
  {
   "cell_type": "code",
   "execution_count": 9,
   "id": "4e743bd6",
   "metadata": {
    "scrolled": true
   },
   "outputs": [],
   "source": [
    "# s3 = boto3.client('s3')\n",
    "s3 = boto3.resource('s3')\n",
    "location = boto3.client('s3').get_bucket_location(Bucket='final-web-usth')['LocationConstraint']"
   ]
  },
  {
   "cell_type": "code",
   "execution_count": 10,
   "id": "2df7865f",
   "metadata": {},
   "outputs": [],
   "source": [
    "bucket = s3.Bucket('final-web-usth')"
   ]
  },
  {
   "cell_type": "code",
   "execution_count": 13,
   "id": "7284ada3",
   "metadata": {},
   "outputs": [
    {
     "ename": "AttributeError",
     "evalue": "'s3.Bucket' object has no attribute 'get_bucket_location'",
     "output_type": "error",
     "traceback": [
      "\u001b[1;31m---------------------------------------------------------------------------\u001b[0m",
      "\u001b[1;31mAttributeError\u001b[0m                            Traceback (most recent call last)",
      "\u001b[1;32mC:\\Users\\WATCHD~1\\AppData\\Local\\Temp/ipykernel_15432/223726745.py\u001b[0m in \u001b[0;36m<module>\u001b[1;34m\u001b[0m\n\u001b[1;32m----> 1\u001b[1;33m \u001b[0mbucket\u001b[0m\u001b[1;33m.\u001b[0m\u001b[0mget_bucket_location\u001b[0m\u001b[1;33m\u001b[0m\u001b[1;33m\u001b[0m\u001b[0m\n\u001b[0m",
      "\u001b[1;31mAttributeError\u001b[0m: 's3.Bucket' object has no attribute 'get_bucket_location'"
     ]
    }
   ],
   "source": [
    "bucket.get_bucket_location"
   ]
  },
  {
   "cell_type": "code",
   "execution_count": 4,
   "id": "64899df1",
   "metadata": {},
   "outputs": [],
   "source": [
    "with open(\"cat.jpg\", \"rb\") as data:\n",
    "    bucket.upload_fileobj(data,\"cat.jpg\")"
   ]
  },
  {
   "cell_type": "code",
   "execution_count": 16,
   "id": "b0e222c5",
   "metadata": {},
   "outputs": [
    {
     "ename": "AttributeError",
     "evalue": "'s3.ObjectSummary' object has no attribute 'keys'",
     "output_type": "error",
     "traceback": [
      "\u001b[1;31m---------------------------------------------------------------------------\u001b[0m",
      "\u001b[1;31mAttributeError\u001b[0m                            Traceback (most recent call last)",
      "\u001b[1;32mC:\\Users\\WATCHD~1\\AppData\\Local\\Temp/ipykernel_15432/520761311.py\u001b[0m in \u001b[0;36m<module>\u001b[1;34m\u001b[0m\n\u001b[0;32m      1\u001b[0m \u001b[1;32mfor\u001b[0m \u001b[0mobj\u001b[0m \u001b[1;32min\u001b[0m \u001b[0mbucket\u001b[0m\u001b[1;33m.\u001b[0m\u001b[0mobjects\u001b[0m\u001b[1;33m.\u001b[0m\u001b[0mall\u001b[0m\u001b[1;33m(\u001b[0m\u001b[1;33m)\u001b[0m\u001b[1;33m:\u001b[0m\u001b[1;33m\u001b[0m\u001b[1;33m\u001b[0m\u001b[0m\n\u001b[1;32m----> 2\u001b[1;33m     \u001b[0murl\u001b[0m \u001b[1;33m=\u001b[0m \u001b[1;34m\"https://s3-%s.amazonaws.com/%s/%s\"\u001b[0m \u001b[1;33m%\u001b[0m \u001b[1;33m(\u001b[0m\u001b[0mlocation\u001b[0m\u001b[1;33m,\u001b[0m \u001b[1;34m'final-web-usth'\u001b[0m\u001b[1;33m,\u001b[0m \u001b[0mobj\u001b[0m\u001b[1;33m.\u001b[0m\u001b[0mkeys\u001b[0m\u001b[1;33m(\u001b[0m\u001b[1;33m)\u001b[0m\u001b[1;33m)\u001b[0m\u001b[1;33m\u001b[0m\u001b[1;33m\u001b[0m\u001b[0m\n\u001b[0m\u001b[0;32m      3\u001b[0m     \u001b[0mprint\u001b[0m\u001b[1;33m(\u001b[0m\u001b[0murl\u001b[0m\u001b[1;33m)\u001b[0m\u001b[1;33m\u001b[0m\u001b[1;33m\u001b[0m\u001b[0m\n",
      "\u001b[1;31mAttributeError\u001b[0m: 's3.ObjectSummary' object has no attribute 'keys'"
     ]
    }
   ],
   "source": [
    "for obj in bucket.objects.all():\n",
    "    url = \"https://s3-%s.amazonaws.com/%s/%s\" % (location, 'final-web-usth', obj.keys())\n",
    "    print(url)"
   ]
  }
 ],
 "metadata": {
  "kernelspec": {
   "display_name": "aws",
   "language": "python",
   "name": "aws"
  },
  "language_info": {
   "codemirror_mode": {
    "name": "ipython",
    "version": 3
   },
   "file_extension": ".py",
   "mimetype": "text/x-python",
   "name": "python",
   "nbconvert_exporter": "python",
   "pygments_lexer": "ipython3",
   "version": "3.7.11"
  }
 },
 "nbformat": 4,
 "nbformat_minor": 5
}
